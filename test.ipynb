{
 "cells": [
  {
   "cell_type": "code",
   "execution_count": 1,
   "id": "94b20cf3-be2b-4306-9010-9b94bea2d492",
   "metadata": {},
   "outputs": [],
   "source": [
    "import nease"
   ]
  },
  {
   "cell_type": "code",
   "execution_count": 2,
   "id": "8b83574c-ff4b-4b91-9c23-94f726d95cbd",
   "metadata": {},
   "outputs": [],
   "source": [
    "import pandas as pd"
   ]
  },
  {
   "cell_type": "code",
   "execution_count": 3,
   "id": "c3b24f77-2272-4315-8d32-96ec137f8fa6",
   "metadata": {},
   "outputs": [
    {
     "data": {
      "text/html": [
       "<div>\n",
       "<style scoped>\n",
       "    .dataframe tbody tr th:only-of-type {\n",
       "        vertical-align: middle;\n",
       "    }\n",
       "\n",
       "    .dataframe tbody tr th {\n",
       "        vertical-align: top;\n",
       "    }\n",
       "\n",
       "    .dataframe thead th {\n",
       "        text-align: right;\n",
       "    }\n",
       "</style>\n",
       "<table border=\"1\" class=\"dataframe\">\n",
       "  <thead>\n",
       "    <tr style=\"text-align: right;\">\n",
       "      <th></th>\n",
       "      <th>Gene stable ID</th>\n",
       "      <th>new_start</th>\n",
       "      <th>new_end</th>\n",
       "      <th>beta</th>\n",
       "    </tr>\n",
       "  </thead>\n",
       "  <tbody>\n",
       "    <tr>\n",
       "      <th>0</th>\n",
       "      <td>ENSG00000154263</td>\n",
       "      <td>69314431</td>\n",
       "      <td>69315425</td>\n",
       "      <td>-0.105828</td>\n",
       "    </tr>\n",
       "    <tr>\n",
       "      <th>1</th>\n",
       "      <td>ENSG00000154265</td>\n",
       "      <td>69314431</td>\n",
       "      <td>69315425</td>\n",
       "      <td>-0.105828</td>\n",
       "    </tr>\n",
       "    <tr>\n",
       "      <th>2</th>\n",
       "      <td>ENSG00000005471</td>\n",
       "      <td>87411893</td>\n",
       "      <td>87412033</td>\n",
       "      <td>0.135682</td>\n",
       "    </tr>\n",
       "    <tr>\n",
       "      <th>3</th>\n",
       "      <td>ENSG00000197150</td>\n",
       "      <td>151031241</td>\n",
       "      <td>151031291</td>\n",
       "      <td>0.150763</td>\n",
       "    </tr>\n",
       "    <tr>\n",
       "      <th>4</th>\n",
       "      <td>ENSG00000124574</td>\n",
       "      <td>43431751</td>\n",
       "      <td>43432141</td>\n",
       "      <td>0.107582</td>\n",
       "    </tr>\n",
       "    <tr>\n",
       "      <th>...</th>\n",
       "      <td>...</td>\n",
       "      <td>...</td>\n",
       "      <td>...</td>\n",
       "      <td>...</td>\n",
       "    </tr>\n",
       "    <tr>\n",
       "      <th>1022</th>\n",
       "      <td>ENSG00000162086</td>\n",
       "      <td>3313049</td>\n",
       "      <td>3313175</td>\n",
       "      <td>0.131544</td>\n",
       "    </tr>\n",
       "    <tr>\n",
       "      <th>1023</th>\n",
       "      <td>ENSG00000198482</td>\n",
       "      <td>52547512</td>\n",
       "      <td>52547638</td>\n",
       "      <td>-0.104090</td>\n",
       "    </tr>\n",
       "    <tr>\n",
       "      <th>1024</th>\n",
       "      <td>ENSG00000176371</td>\n",
       "      <td>84616309</td>\n",
       "      <td>84616614</td>\n",
       "      <td>-0.246228</td>\n",
       "    </tr>\n",
       "    <tr>\n",
       "      <th>1025</th>\n",
       "      <td>ENSG00000140987</td>\n",
       "      <td>3397745</td>\n",
       "      <td>3397787</td>\n",
       "      <td>-0.161007</td>\n",
       "    </tr>\n",
       "    <tr>\n",
       "      <th>1026</th>\n",
       "      <td>ENSG00000070476</td>\n",
       "      <td>126461083</td>\n",
       "      <td>126461534</td>\n",
       "      <td>0.219728</td>\n",
       "    </tr>\n",
       "  </tbody>\n",
       "</table>\n",
       "<p>1027 rows × 4 columns</p>\n",
       "</div>"
      ],
      "text/plain": [
       "       Gene stable ID  new_start    new_end      beta\n",
       "0     ENSG00000154263   69314431   69315425 -0.105828\n",
       "1     ENSG00000154265   69314431   69315425 -0.105828\n",
       "2     ENSG00000005471   87411893   87412033  0.135682\n",
       "3     ENSG00000197150  151031241  151031291  0.150763\n",
       "4     ENSG00000124574   43431751   43432141  0.107582\n",
       "...               ...        ...        ...       ...\n",
       "1022  ENSG00000162086    3313049    3313175  0.131544\n",
       "1023  ENSG00000198482   52547512   52547638 -0.104090\n",
       "1024  ENSG00000176371   84616309   84616614 -0.246228\n",
       "1025  ENSG00000140987    3397745    3397787 -0.161007\n",
       "1026  ENSG00000070476  126461083  126461534  0.219728\n",
       "\n",
       "[1027 rows x 4 columns]"
      ]
     },
     "execution_count": 3,
     "metadata": {},
     "output_type": "execute_result"
    }
   ],
   "source": [
    "# Prepare the standard input for DCM data\n",
    "table_dcm=pd.read_pickle('test data/dcm.pkl')\n",
    "table_dcm"
   ]
  },
  {
   "cell_type": "code",
   "execution_count": null,
   "id": "5e5db0dd-89e3-4ec2-a160-35117a4c62a1",
   "metadata": {},
   "outputs": [],
   "source": []
  },
  {
   "cell_type": "code",
   "execution_count": null,
   "id": "0babb158-3553-4aea-8fcd-c7ff1497b50f",
   "metadata": {},
   "outputs": [],
   "source": []
  },
  {
   "cell_type": "code",
   "execution_count": null,
   "id": "e193a797-7564-405f-8eba-82bba2c256a7",
   "metadata": {
    "scrolled": true
   },
   "outputs": [
    {
     "name": "stdout",
     "output_type": "stream",
     "text": [
      "\n",
      "\t\tData Summary\n",
      "**************************************************\n",
      "191 protein domains are affected by AS.\n",
      "95 of the affected domains have known interactions.\n",
      "985 protein interactions/binding affected.\n",
      "\n",
      "**************************************************\n",
      "Running enrichment analysis...\n"
     ]
    }
   ],
   "source": [
    "events=nease.run(table_dcm, organism='Human')"
   ]
  },
  {
   "cell_type": "code",
   "execution_count": null,
   "id": "d32f512c-c17f-4ee2-a550-ab4a3aab0cf6",
   "metadata": {},
   "outputs": [],
   "source": [
    "events.get_domains().head(15)"
   ]
  },
  {
   "cell_type": "code",
   "execution_count": null,
   "id": "fa8b948d-e7bc-4594-8767-94ccc920a075",
   "metadata": {},
   "outputs": [],
   "source": [
    "events.get_edges()"
   ]
  },
  {
   "cell_type": "code",
   "execution_count": null,
   "id": "9a2b3182-3d9a-4b7d-957b-5b963978c787",
   "metadata": {},
   "outputs": [],
   "source": [
    "events.enrich(database=['KEGG']).head(15)"
   ]
  },
  {
   "cell_type": "code",
   "execution_count": null,
   "id": "45a0d6b7-996f-43b1-b379-a51cf92a7bd5",
   "metadata": {},
   "outputs": [],
   "source": [
    "events.path_analysis('path:hsa05414')"
   ]
  },
  {
   "cell_type": "code",
   "execution_count": null,
   "id": "3a684fb9-d904-45f8-8e7e-ada448764d51",
   "metadata": {},
   "outputs": [],
   "source": [
    "events.Vis_path('path:hsa05414',)"
   ]
  },
  {
   "cell_type": "code",
   "execution_count": null,
   "id": "9a511d37-df59-4706-8f43-7821b2f0cdb1",
   "metadata": {},
   "outputs": [],
   "source": [
    "events.Vis_path('path:hsa04261',)"
   ]
  },
  {
   "cell_type": "code",
   "execution_count": null,
   "id": "fd70bbc8-8f88-4a49-87bf-338125e297ec",
   "metadata": {},
   "outputs": [],
   "source": []
  },
  {
   "cell_type": "code",
   "execution_count": null,
   "id": "be27090a-6ee7-497f-8eff-4289ccc3443d",
   "metadata": {},
   "outputs": [],
   "source": []
  },
  {
   "cell_type": "code",
   "execution_count": null,
   "id": "2839e56d-4b11-46f8-ac7d-5e104f18578c",
   "metadata": {},
   "outputs": [],
   "source": [
    "# Test on platelete da\n",
    "#table= pd.read_table(\"test data/RP_MP.deltapsi.tsv\")"
   ]
  },
  {
   "cell_type": "code",
   "execution_count": null,
   "id": "575d894e-6f55-4c06-8855-84bbd836c180",
   "metadata": {},
   "outputs": [],
   "source": []
  }
 ],
 "metadata": {
  "kernelspec": {
   "display_name": "Python 3",
   "language": "python",
   "name": "python3"
  },
  "language_info": {
   "codemirror_mode": {
    "name": "ipython",
    "version": 3
   },
   "file_extension": ".py",
   "mimetype": "text/x-python",
   "name": "python",
   "nbconvert_exporter": "python",
   "pygments_lexer": "ipython3",
   "version": "3.9.2"
  }
 },
 "nbformat": 4,
 "nbformat_minor": 5
}
